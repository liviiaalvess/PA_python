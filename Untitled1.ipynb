{
  "nbformat": 4,
  "nbformat_minor": 0,
  "metadata": {
    "colab": {
      "provenance": [],
      "authorship_tag": "ABX9TyP+4IfAZ3ArFQRMCUfTMjUE",
      "include_colab_link": true
    },
    "kernelspec": {
      "name": "python3",
      "display_name": "Python 3"
    },
    "language_info": {
      "name": "python"
    }
  },
  "cells": [
    {
      "cell_type": "markdown",
      "metadata": {
        "id": "view-in-github",
        "colab_type": "text"
      },
      "source": [
        "<a href=\"https://colab.research.google.com/github/liviiaalvess/PA_python/blob/main/Untitled1.ipynb\" target=\"_parent\"><img src=\"https://colab.research.google.com/assets/colab-badge.svg\" alt=\"Open In Colab\"/></a>"
      ]
    },
    {
      "cell_type": "code",
      "execution_count": 3,
      "metadata": {
        "colab": {
          "base_uri": "https://localhost:8080/"
        },
        "id": "hlXUxYHwySI_",
        "outputId": "2bbb7ca6-5fd8-46ef-f052-7118b9d634bd"
      },
      "outputs": [
        {
          "output_type": "stream",
          "name": "stdout",
          "text": [
            "Termo MCM\n",
            "A palavra tem 5 letras. Você tem 6 tentativas!\n",
            " \n",
            "Tentativa1:laura\n",
            "Resultado:  ---r-\n",
            "Tentativa2:laura linda\n",
            "o chute deve ter exatamente 5 letras\n",
            "Tentativa3:pular\n",
            "Resultado:  ----r\n",
            "Tentativa4:verde\n",
            "Parabens! Você acertou a palavra \n"
          ]
        }
      ],
      "source": [
        "import random\n",
        "plavras = [\"Livro\", \"Verde\",\"Claro\", \"festa\", \"pular\", \"carta\" ]\n",
        "palavra_secreta = random.choice(plavras).lower()\n",
        "tentativas = 6\n",
        "print(\"Termo MCM\")\n",
        "print(\"A palavra tem 5 letras. Você tem 6 tentativas!\\n \")\n",
        "\n",
        "for i in range(tentativas):\n",
        "  chute = input(\"Tentativa\" + str(i+1) + \":\").lower()\n",
        "\n",
        "  if len(chute) != 5:\n",
        "    print(\"o chute deve ter exatamente 5 letras\")\n",
        "    continue\n",
        "  if chute == palavra_secreta:\n",
        "    print(\"Parabens! Você acertou a palavra \")\n",
        "    break\n",
        "  else:\n",
        "    resultado = \"\"\n",
        "    for j in range(5):\n",
        "      if chute [j] == palavra_secreta[j]:\n",
        "        resultado += chute[j].upper()\n",
        "      elif chute[j] in palavra_secreta:\n",
        "        resultado += chute[j]\n",
        "      else:\n",
        "        resultado += \"-\"\n",
        "    print(\"Resultado: \", resultado )\n",
        "\n",
        "if chute != palavra_secreta:\n",
        "  print(f\"Sua alternativas acabaram, a palavra era:{palavra_secreta} \")"
      ]
    }
  ]
}